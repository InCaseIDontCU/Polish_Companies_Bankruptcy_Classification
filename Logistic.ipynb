{
 "cells": [
  {
   "cell_type": "code",
   "execution_count": 13,
   "id": "657e7466",
   "metadata": {},
   "outputs": [],
   "source": [
    "import pandas as pd\n",
    "import numpy as np\n",
    "import random\n",
    "import matplotlib.pyplot as plt"
   ]
  },
  {
   "cell_type": "code",
   "execution_count": 14,
   "id": "5ea7feb9",
   "metadata": {},
   "outputs": [],
   "source": [
    "from sklearn.metrics import roc_curve,auc"
   ]
  },
  {
   "cell_type": "code",
   "execution_count": 16,
   "id": "033a330d",
   "metadata": {},
   "outputs": [],
   "source": [
    "# Read data\n",
    "trainData = pd.read_table(\"/Users/stevenzhai/Desktop/FTE4560/overTrain.csv\", sep=\",\")\n",
    "trainDX = trainData[trainData.columns.values[:-1]]\n",
    "trainDY = trainData[[\"class\"]]\n",
    "\n",
    "testData = pd.read_table(\"/Users/stevenzhai/Desktop/FTE4560/NormalTest.csv\", sep=\",\")\n",
    "testDX = testData[testData.columns.values[:-1]]\n",
    "testDY = testData[[\"class\"]]"
   ]
  },
  {
   "cell_type": "code",
   "execution_count": 17,
   "id": "822935e8",
   "metadata": {},
   "outputs": [],
   "source": [
    "#Add a column of 1 for the X\n",
    "trainDX['Attr0'] = 1.0\n",
    "testDX['Attr0'] = 1.0"
   ]
  },
  {
   "cell_type": "code",
   "execution_count": 18,
   "id": "7fc524a6",
   "metadata": {},
   "outputs": [],
   "source": [
    "# Define sigmoid function\n",
    "def sigmoid(x):\n",
    "    return 1.0/(1+np.exp(-x))"
   ]
  },
  {
   "cell_type": "code",
   "execution_count": 19,
   "id": "c05b5f24",
   "metadata": {},
   "outputs": [],
   "source": [
    "# Define Gradient Descent Method without regularization\n",
    "def gradientDescent(X,Y):\n",
    "    dataMatrix = np.mat(X)\n",
    "    classMatrix = np.mat(Y)\n",
    "    num_sample, num_parameter = np.shape(dataMatrix)\n",
    "    #initialize the weights\n",
    "    weights1 = np.zeros((num_parameter,1))\n",
    "    weights2 = np.zeros((num_parameter,1))\n",
    "    step_size = 0.01\n",
    "    max_iter = 50000\n",
    "    episilon = 0.0000001\n",
    "    num_iter = 0\n",
    "    while(num_iter < max_iter):\n",
    "        num_iter+=1\n",
    "        weights2 = weights1\n",
    "        y = sigmoid(dataMatrix*weights1)\n",
    "        error = y - classMatrix \n",
    "        weights1 = weights1 - (step_size)*dataMatrix.transpose()*error/len(classMatrix)\n",
    "        if all(abs(weights2-weights1) < episilon):\n",
    "            break\n",
    "    return weights1"
   ]
  },
  {
   "cell_type": "code",
   "execution_count": 28,
   "id": "05ec7d09",
   "metadata": {},
   "outputs": [],
   "source": [
    "weight = gradientDescent(trainDX,trainDY)"
   ]
  },
  {
   "cell_type": "code",
   "execution_count": 20,
   "id": "e22ba192",
   "metadata": {},
   "outputs": [],
   "source": [
    "def logistic(train_X,train_Y,test_X,test_Y):\n",
    "    temp_weight = gradientDescent(train_X,train_Y)\n",
    "    pred_train_Y = pd.DataFrame(sigmoid(train_X.to_numpy()*temp_weight))\n",
    "    #classify the prediction results for training set\n",
    "    for i in range(len(pred_train_Y)):\n",
    "        if pred_train_Y.iloc[i,0] <= 0.5:\n",
    "            pred_train_Y.iloc[i,0] = 0\n",
    "        else:\n",
    "            pred_train_Y.iloc[i,0] = 1       \n",
    "    TP_train = 0\n",
    "    FP_train = 0\n",
    "    TN_train = 0\n",
    "    FN_train = 0\n",
    "    #calculate TP,FP,TN,FN\n",
    "    for j in range(len(pred_train_Y)):\n",
    "        if (pred_train_Y.iloc[j,0] == 1 and train_Y.iloc[j,0] == 1):\n",
    "            TP_train += 1\n",
    "        elif (pred_train_Y.iloc[j,0] == 1 and train_Y.iloc[j,0] == 0):\n",
    "            FP_train += 1\n",
    "        elif (pred_train_Y.iloc[j,0] == 0 and train_Y.iloc[j,0] == 0):\n",
    "            TN_train += 1\n",
    "        else:\n",
    "            FN_train += 1\n",
    "            \n",
    "    train_accuracy = (TP_train + TN_train)/(TP_train + FP_train + TN_train + FN_train)\n",
    "    train_precision = TP_train/(TP_train + FP_train)\n",
    "    train_recall = TP_train/(TP_train + FN_train)\n",
    "    train_F1_score = 2*train_precision*train_recall/(train_precision+train_recall)\n",
    "    \n",
    "    #classify the prediction results for the test set\n",
    "    pred_test_Y = pd.DataFrame(sigmoid(test_X.to_numpy()*temp_weight))\n",
    "    for m in range(len(pred_test_Y)):\n",
    "        if pred_test_Y.iloc[m,0] <= 0.5:\n",
    "            pred_test_Y.iloc[m,0] = 0\n",
    "        else:\n",
    "            pred_test_Y.iloc[m,0] = 1       \n",
    "    TP_test = 0\n",
    "    FP_test = 0\n",
    "    TN_test = 0\n",
    "    FN_test = 0\n",
    "    #calculate TP,FP,TN,FN\n",
    "    for n in range(len(pred_test_Y)):\n",
    "        if (pred_test_Y.iloc[n,0] == 1 and test_Y.iloc[n,0] == 1):\n",
    "            TP_test += 1\n",
    "        elif (pred_test_Y.iloc[n,0] == 1 and test_Y.iloc[n,0] == 0):\n",
    "            FP_test += 1\n",
    "        elif (pred_test_Y.iloc[n,0] == 0 and test_Y.iloc[n,0] == 0):\n",
    "            TN_test += 1\n",
    "        else:\n",
    "            FN_test += 1\n",
    "    \n",
    "    test_accuracy = (TP_test + TN_test)/(TP_test + TN_test + FN_test + FP_test)\n",
    "    test_precision = TP_test/(TP_test + FP_test)\n",
    "    test_recall = TP_test/(TP_test + FN_test)\n",
    "    test_F1_score = 2*test_precision*test_recall/(test_precision+test_recall)\n",
    "    \n",
    "    return(prob,train_accuracy,train_precision,train_recall,train_F1_score,test_accuracy,test_precision,test_recall,test_F1_score)"
   ]
  },
  {
   "cell_type": "code",
   "execution_count": 27,
   "id": "ddf9ef6e",
   "metadata": {
    "scrolled": true
   },
   "outputs": [
    {
     "data": {
      "text/plain": [
       "(0.5,\n",
       " 0.7881981032665965,\n",
       " 0.8275862068965517,\n",
       " 0.10909090909090909,\n",
       " 0.19277108433734938,\n",
       " 0.7152317880794702,\n",
       " 0.5666666666666667,\n",
       " 0.6666666666666666,\n",
       " 0.6126126126126126)"
      ]
     },
     "execution_count": 27,
     "metadata": {},
     "output_type": "execute_result"
    }
   ],
   "source": [
    "logistic(trainDX,trainDY,testDX,testDY)"
   ]
  },
  {
   "cell_type": "code",
   "execution_count": 42,
   "id": "1d706e34",
   "metadata": {},
   "outputs": [
    {
     "name": "stderr",
     "output_type": "stream",
     "text": [
      "/opt/anaconda3/lib/python3.8/site-packages/sklearn/utils/validation.py:70: FutureWarning: Pass pos_label=1 as keyword args. From version 1.0 (renaming of 0.25) passing these as positional arguments will result in an error\n",
      "  warnings.warn(f\"Pass {args_msg} as keyword args. From version \"\n",
      "/opt/anaconda3/lib/python3.8/site-packages/sklearn/utils/validation.py:70: FutureWarning: Pass pos_label=1 as keyword args. From version 1.0 (renaming of 0.25) passing these as positional arguments will result in an error\n",
      "  warnings.warn(f\"Pass {args_msg} as keyword args. From version \"\n"
     ]
    },
    {
     "data": {
      "image/png": "[encoded data removed]",
      "text/plain": [
       "<Figure size 720x432 with 1 Axes>"
      ]
     },
     "metadata": {
      "needs_background": "light"
     },
     "output_type": "display_data"
    }
   ],
   "source": [
    "#Plot the ROC curve\n",
    "prob = sigmoid(trainDX.to_numpy()*weight)\n",
    "prob2 = sigmoid(testDX.to_numpy()*weight)\n",
    "plt.figure(figsize=(10,6))\n",
    "FPR,TPR,threshold = roc_curve(trainDY,prob,1)\n",
    "FPR2,TPR2,threshold2 = roc_curve(testDY,prob2,1)\n",
    "roc_auc = auc(FPR,TPR)\n",
    "roc_auc2 = auc(FPR2,TPR2)\n",
    "plt.plot(FPR,TPR,lw=2,label = 'Train Data'+' (area = %0.3f)'%roc_auc)\n",
    "plt.plot(FPR2,TPR2,lw=2,label = 'Test Data'+' (area = %0.3f)'%roc_auc2)\n",
    "plt.plot([0,1],[0,1],color = 'navy',lw = 2, linestyle = '--')\n",
    "plt.grid()\n",
    "plt.xlabel(\"False Positive Rate\")\n",
    "plt.ylabel(\"True Positive Rate\")\n",
    "plt.title(\"ROC curve of Logistic Regression\")\n",
    "plt.legend()\n",
    "plt.show()"
   ]
  },
  {
   "cell_type": "code",
   "execution_count": 21,
   "id": "e50c9686",
   "metadata": {},
   "outputs": [],
   "source": [
    "#define gradient descent with regularization\n",
    "def gradientDescent_reg(X,Y,lam):\n",
    "    dataMatrix = np.mat(X)\n",
    "    classMatrix = np.mat(Y)\n",
    "    num_sample, num_parameter = np.shape(dataMatrix)\n",
    "    #initialize the weights\n",
    "    weights1 = np.zeros((num_parameter,1))\n",
    "    weights2 = np.zeros((num_parameter,1))\n",
    "    step_size = 0.01\n",
    "    max_iter = 50000\n",
    "    episilon = 0.0000001\n",
    "    num_iter = 0\n",
    "    while(num_iter < max_iter):\n",
    "        num_iter+=1\n",
    "        weights2 = weights1\n",
    "        y = sigmoid(dataMatrix*weights1)\n",
    "        error = y - classMatrix \n",
    "        weights1 = weights1 - (step_size)*(dataMatrix.transpose()*error+lam*weights1)/len(classMatrix)\n",
    "        if all(abs(weights2-weights1) < episilon):\n",
    "            break\n",
    "    return weights1"
   ]
  },
  {
   "cell_type": "code",
   "execution_count": 22,
   "id": "8104d128",
   "metadata": {
    "scrolled": true
   },
   "outputs": [],
   "source": [
    "#Define cross-validation for logistic with regularization to test accuracy\n",
    "def cross_validation_regularize(X,Y,lam):\n",
    "    #Create the fold to save precision\n",
    "    precision_train = []\n",
    "    precision_vali = []\n",
    "    recall_train = []\n",
    "    recall_vali = []\n",
    "    accuracy_train = []\n",
    "    accuracy_vali = []\n",
    "    # Set the seed\n",
    "    random.seed(1)\n",
    "    # Divide indices of data into 10 folds randomly\n",
    "    row = X.shape[0]\n",
    "    index = [int(i) for i in np.linspace(0, row-1, row)]\n",
    "    random.shuffle(index)\n",
    "    # Use 10-fold cross validation to estimate the error rate\n",
    "    folds = 10\n",
    "    for i in range(0, folds):\n",
    "        # For each fold, calculate the accuracy\n",
    "        vali_index = index[int(row/folds*i):int(row/folds*(i+1))]\n",
    "        # Train set has 9 folds and validation set has 1 fold\n",
    "        vali_x = X.iloc[vali_index]\n",
    "        vali_y = Y.iloc[vali_index]\n",
    "        train_x = X.iloc[list(set(index)-set(vali_index))]\n",
    "        train_y = Y.iloc[list(set(index)-set(vali_index))]\n",
    "        temp_weight = gradientDescent_reg(train_x,train_y,lam)\n",
    "        #predict result for the train set\n",
    "        pred_train_y = sigmoid(train_x.to_numpy()*temp_weight)\n",
    "        pred_train_y = pd.DataFrame(pred_train_y)\n",
    "        for j in range(len(pred_train_y)):\n",
    "            if pred_train_y.iloc[j,0] <= 0.5:\n",
    "                pred_train_y.iloc[j,0] = 0\n",
    "            else:\n",
    "                pred_train_y.iloc[j,0] = 1\n",
    "        TP_train = 0\n",
    "        FP_train = 0\n",
    "        FN_train = 0\n",
    "        TN_train = 0\n",
    "        for k in range(len(pred_train_y)):\n",
    "            if pred_train_y.iloc[k,0] == 1 and train_y.iloc[k,0] == 1:\n",
    "                TP_train+=1\n",
    "            elif pred_train_y.iloc[k,0] == 1 and train_y.iloc[k,0] == 0:\n",
    "                FP_train+=1\n",
    "            elif pred_train_y.iloc[k,0] == 0 and train_y.iloc[k,0] == 1:\n",
    "                FN_train+=1\n",
    "            else:\n",
    "                TN_train+=1\n",
    "        precision_train.append(TP_train/(TP_train+FP_train))\n",
    "        recall_train.append(TP_train/(TP_train + FN_train))\n",
    "        accuracy_train.append((TP_train+TN_train)/(TP_train+TN_train+FP_train+FN_train))\n",
    "        #predict result for the test set\n",
    "        pred_vali_y = sigmoid(vali_x.to_numpy()*temp_weight)\n",
    "        pred_vali_y = pd.DataFrame(pred_vali_y)\n",
    "        for j in range(len(pred_vali_y)):\n",
    "            if pred_vali_y.iloc[j,0] <= 0.5:\n",
    "                pred_vali_y.iloc[j,0] = 0\n",
    "            else:\n",
    "                pred_vali_y.iloc[j,0] = 1\n",
    "        TP_vali = 0\n",
    "        FP_vali = 0\n",
    "        FN_vali = 0\n",
    "        TN_vali = 0\n",
    "        for k in range(len(pred_vali_y)):\n",
    "            if pred_vali_y.iloc[k,0] == 1 and vali_y.iloc[k,0] == 1:\n",
    "                TP_vali+=1\n",
    "            elif pred_vali_y.iloc[k,0] == 1 and vali_y.iloc[k,0] == 0:\n",
    "                FP_vali+=1\n",
    "            elif pred_vali_y.iloc[k,0] == 0 and vali_y.iloc[k,0] == 1:\n",
    "                FN_vali+=1\n",
    "            else:\n",
    "                TN_vali+=1\n",
    "        if(TP_vali+FP_vali != 0):\n",
    "            precision_vali.append(TP_vali/(TP_vali+FP_vali))\n",
    "        else:\n",
    "            precision_vali.append(0)\n",
    "        recall_vali.append(TP_vali/(TP_vali+FN_vali))\n",
    "        accuracy_vali.append((TP_vali+TN_vali)/(TP_vali+TN_vali+FP_vali+FN_vali))\n",
    "        \n",
    "        \n",
    "    F1_train = [2*precision_train[i]*recall_train[i]/(precision_train[i]+recall_train[i]) for i in range(len(precision_train))]    \n",
    "    F1_vali = [2*precision_vali[i]*recall_vali[i]/(precision_vali[i]+recall_vali[i]) for i in range(len(precision_vali)) if precision_vali != None and (precision_vali[i]+recall_vali[i]) != 0]\n",
    "    precision_vali = list(filter(None,precision_vali))\n",
    "    return(np.mean(accuracy_train),np.mean(precision_train),np.mean(recall_train),np.mean(F1_train),np.mean(accuracy_vali),np.mean(precision_vali),np.mean(recall_vali),np.mean(F1_vali))"
   ]
  },
  {
   "cell_type": "code",
   "execution_count": 53,
   "id": "edbe6e28",
   "metadata": {
    "scrolled": false
   },
   "outputs": [],
   "source": [
    "temp = cross_validation_regularize(trainDX,trainDY,0)"
   ]
  },
  {
   "cell_type": "code",
   "execution_count": 23,
   "id": "58a418c3",
   "metadata": {},
   "outputs": [],
   "source": [
    "def ten_CV_plot(train_x,train_y,para):\n",
    "    accuracy = []\n",
    "    precision = []\n",
    "    recall = []\n",
    "    F1 = []\n",
    "    for i in np.linspace(0,para,11):\n",
    "        k = cross_validation_regularize(train_x,train_y,i)\n",
    "        accuracy.append(k[4])\n",
    "        precision.append(k[5])\n",
    "        recall.append(k[6])\n",
    "        F1.append(k[7])\n",
    "    fig = plt.figure()\n",
    "    plt.xlabel(\"lambda\")\n",
    "    plt.ylabel(\"Rate\")\n",
    "    plt.grid()\n",
    "    plt.ylim(0,1.2)\n",
    "    plt.plot(np.linspace(0,para,11), precision,marker=\"o\",markerfacecolor=\"brown\",label=\"Precision\")\n",
    "    plt.plot(np.linspace(0,para,11),recall,marker=\"o\",markerfacecolor=\"purple\",label=\"Recall\")\n",
    "    plt.plot(np.linspace(0,para,11),F1,marker=\"o\",markerfacecolor=\"burlywood\",label=\"F1 Score\")\n",
    "    plt.plot(np.linspace(0,para,11),accuracy,marker=\"o\",markerfacecolor=\"aliceblue\",label=\"Accuracy\")\n",
    "    plt.title(\"Metrics of Logistic Regression with L2-norm\")\n",
    "    plt.legend()\n",
    "    plt.savefig(\"/Users/stevenzhai/Desktop/FTE4560/CV_log.png\")\n",
    "    plt.show()"
   ]
  },
  {
   "cell_type": "code",
   "execution_count": 24,
   "id": "bb77e1f9",
   "metadata": {
    "scrolled": true
   },
   "outputs": [
    {
     "data": {
      "image/png": "[encoded data removed]",
      "text/plain": [
       "<Figure size 432x288 with 1 Axes>"
      ]
     },
     "metadata": {
      "needs_background": "light"
     },
     "output_type": "display_data"
    }
   ],
   "source": [
    "ten_CV_plot(trainDX,trainDY,1)"
   ]
  },
  {
   "cell_type": "code",
   "execution_count": 70,
   "id": "9c09404f",
   "metadata": {},
   "outputs": [],
   "source": [
    "def logistic_reg(train_X,train_Y,test_X,test_Y):\n",
    "    temp_weight = gradientDescent_reg(train_X,train_Y,0.2)\n",
    "    pred_train_Y = pd.DataFrame(sigmoid(train_X.to_numpy()*temp_weight))\n",
    "    #classify the prediction results for training set\n",
    "    for i in range(len(pred_train_Y)):\n",
    "        if pred_train_Y.iloc[i,0] <= 0.5:\n",
    "            pred_train_Y.iloc[i,0] = 0\n",
    "        else:\n",
    "            pred_train_Y.iloc[i,0] = 1       \n",
    "    TP_train = 0\n",
    "    FP_train = 0\n",
    "    TN_train = 0\n",
    "    FN_train = 0\n",
    "    #calculate TP,FP,TN,FN\n",
    "    for j in range(len(pred_train_Y)):\n",
    "        if (pred_train_Y.iloc[j,0] == 1 and train_Y.iloc[j,0] == 1):\n",
    "            TP_train += 1\n",
    "        elif (pred_train_Y.iloc[j,0] == 1 and train_Y.iloc[j,0] == 0):\n",
    "            FP_train += 1\n",
    "        elif (pred_train_Y.iloc[j,0] == 0 and train_Y.iloc[j,0] == 0):\n",
    "            TN_train += 1\n",
    "        else:\n",
    "            FN_train += 1\n",
    "            \n",
    "    train_accuracy = (TP_train + TN_train)/(TP_train + FP_train + TN_train + FN_train)\n",
    "    train_precision = TP_train/(TP_train + FP_train)\n",
    "    train_recall = TP_train/(TP_train + FN_train)\n",
    "    train_F1_score = 2*train_precision*train_recall/(train_precision+train_recall)\n",
    "    \n",
    "    #classify the prediction results for the test set\n",
    "    pred_test_Y = pd.DataFrame(sigmoid(test_X.to_numpy()*temp_weight))\n",
    "    for m in range(len(pred_test_Y)):\n",
    "        if pred_test_Y.iloc[m,0] <= 0.5:\n",
    "            pred_test_Y.iloc[m,0] = 0\n",
    "        else:\n",
    "            pred_test_Y.iloc[m,0] = 1       \n",
    "    TP_test = 0\n",
    "    FP_test = 0\n",
    "    TN_test = 0\n",
    "    FN_test = 0\n",
    "    #calculate TP,FP,TN,FN\n",
    "    for n in range(len(pred_test_Y)):\n",
    "        if (pred_test_Y.iloc[n,0] == 1 and test_Y.iloc[n,0] == 1):\n",
    "            TP_test += 1\n",
    "        elif (pred_test_Y.iloc[n,0] == 1 and test_Y.iloc[n,0] == 0):\n",
    "            FP_test += 1\n",
    "        elif (pred_test_Y.iloc[n,0] == 0 and test_Y.iloc[n,0] == 0):\n",
    "            TN_test += 1\n",
    "        else:\n",
    "            FN_test += 1\n",
    "    \n",
    "    test_accuracy = (TP_test + TN_test)/(TP_test + TN_test + FN_test + FP_test)\n",
    "    test_precision = TP_test/(TP_test + FP_test)\n",
    "    test_recall = TP_test/(TP_test + FN_test)\n",
    "    test_F1_score = 2*test_precision*test_recall/(test_precision+test_recall)\n",
    "    \n",
    "    return(train_accuracy,train_precision,train_recall,train_F1_score,test_accuracy,test_precision,test_recall,test_F1_score)"
   ]
  },
  {
   "cell_type": "code",
   "execution_count": 80,
   "id": "52aa7c59",
   "metadata": {
    "scrolled": true
   },
   "outputs": [
    {
     "data": {
      "text/plain": [
       "(0.6995884773662552,\n",
       " 0.6789667896678967,\n",
       " 0.757201646090535,\n",
       " 0.715953307392996,\n",
       " 0.6291390728476821,\n",
       " 0.46835443037974683,\n",
       " 0.7254901960784313,\n",
       " 0.5692307692307692)"
      ]
     },
     "execution_count": 80,
     "metadata": {},
     "output_type": "execute_result"
    }
   ],
   "source": [
    "logistic_reg(trainDX,trainDY,testDX,testDY)"
   ]
  },
  {
   "cell_type": "code",
   "execution_count": 73,
   "id": "224e3a56",
   "metadata": {},
   "outputs": [],
   "source": [
    "weight2 = gradientDescent_reg(trainDX,trainDY,0.2)"
   ]
  },
  {
   "cell_type": "code",
   "execution_count": 74,
   "id": "1006942d",
   "metadata": {},
   "outputs": [
    {
     "name": "stderr",
     "output_type": "stream",
     "text": [
      "/opt/anaconda3/lib/python3.8/site-packages/sklearn/utils/validation.py:70: FutureWarning: Pass pos_label=1 as keyword args. From version 1.0 (renaming of 0.25) passing these as positional arguments will result in an error\n",
      "  warnings.warn(f\"Pass {args_msg} as keyword args. From version \"\n",
      "/opt/anaconda3/lib/python3.8/site-packages/sklearn/utils/validation.py:70: FutureWarning: Pass pos_label=1 as keyword args. From version 1.0 (renaming of 0.25) passing these as positional arguments will result in an error\n",
      "  warnings.warn(f\"Pass {args_msg} as keyword args. From version \"\n"
     ]
    },
    {
     "data": {
      "image/png": "[encoded data removed]",
      "text/plain": [
       "<Figure size 720x432 with 1 Axes>"
      ]
     },
     "metadata": {
      "needs_background": "light"
     },
     "output_type": "display_data"
    }
   ],
   "source": [
    "prob3 = sigmoid(trainDX.to_numpy()*weight2)\n",
    "prob4 = sigmoid(testDX.to_numpy()*weight2)\n",
    "plt.figure(figsize=(10,6))\n",
    "FPR,TPR,threshold = roc_curve(trainDY,prob3,1)\n",
    "FPR2,TPR2,threshold2 = roc_curve(testDY,prob4,1)\n",
    "roc_auc = auc(FPR,TPR)\n",
    "roc_auc2 = auc(FPR2,TPR2)\n",
    "plt.plot(FPR,TPR,lw=2,label = 'Train Data'+' (area = %0.3f)'%roc_auc)\n",
    "plt.plot(FPR2,TPR2,lw=2,label = 'Test Data'+' (area = %0.3f)'%roc_auc2)\n",
    "plt.plot([0,1],[0,1],color = 'navy',lw = 2, linestyle = '--')\n",
    "plt.grid()\n",
    "plt.xlabel(\"False Positive Rate\")\n",
    "plt.ylabel(\"True Positive Rate\")\n",
    "plt.title(\"ROC curve of Logistic Regression\")\n",
    "plt.legend()\n",
    "plt.show()"
   ]
  }
 ],
 "metadata": {
  "kernelspec": {
   "display_name": "Python 3",
   "language": "python",
   "name": "python3"
  },
  "language_info": {
   "codemirror_mode": {
    "name": "ipython",
    "version": 3
   },
   "file_extension": ".py",
   "mimetype": "text/x-python",
   "name": "python",
   "nbconvert_exporter": "python",
   "pygments_lexer": "ipython3",
   "version": "3.8.8"
  }
 },
 "nbformat": 4,
 "nbformat_minor": 5
}
