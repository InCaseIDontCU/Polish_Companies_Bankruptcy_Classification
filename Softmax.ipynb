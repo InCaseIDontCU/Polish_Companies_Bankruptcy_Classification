{
 "cells": [
  {
   "cell_type": "code",
   "execution_count": 3,
   "id": "93d869a7",
   "metadata": {},
   "outputs": [],
   "source": [
    "import pandas as pd\n",
    "import numpy as np\n",
    "import random\n",
    "import matplotlib.pyplot as plt"
   ]
  },
  {
   "cell_type": "code",
   "execution_count": 15,
   "id": "bbd524f4",
   "metadata": {},
   "outputs": [],
   "source": [
    "from sklearn.metrics import roc_curve,auc"
   ]
  },
  {
   "cell_type": "code",
   "execution_count": 69,
   "id": "eca9b988",
   "metadata": {},
   "outputs": [
    {
     "name": "stderr",
     "output_type": "stream",
     "text": [
      "<ipython-input-69-4ca72f9d5183>:15: SettingWithCopyWarning: \n",
      "A value is trying to be set on a copy of a slice from a DataFrame.\n",
      "Try using .loc[row_indexer,col_indexer] = value instead\n",
      "\n",
      "See the caveats in the documentation: https://pandas.pydata.org/pandas-docs/stable/user_guide/indexing.html#returning-a-view-versus-a-copy\n",
      "  trainDY[\"class2\"] = 0\n",
      "<ipython-input-69-4ca72f9d5183>:16: SettingWithCopyWarning: \n",
      "A value is trying to be set on a copy of a slice from a DataFrame.\n",
      "Try using .loc[row_indexer,col_indexer] = value instead\n",
      "\n",
      "See the caveats in the documentation: https://pandas.pydata.org/pandas-docs/stable/user_guide/indexing.html#returning-a-view-versus-a-copy\n",
      "  testDY[\"class2\"] = 0\n",
      "/opt/anaconda3/lib/python3.8/site-packages/pandas/core/indexing.py:1720: SettingWithCopyWarning: \n",
      "A value is trying to be set on a copy of a slice from a DataFrame.\n",
      "Try using .loc[row_indexer,col_indexer] = value instead\n",
      "\n",
      "See the caveats in the documentation: https://pandas.pydata.org/pandas-docs/stable/user_guide/indexing.html#returning-a-view-versus-a-copy\n",
      "  self._setitem_single_column(loc, value, pi)\n"
     ]
    }
   ],
   "source": [
    "# Read data\n",
    "trainData = pd.read_table(\"/Users/stevenzhai/Desktop/FTE4560/overTrain.csv\", sep=\",\")\n",
    "trainDX = trainData[trainData.columns.values[:-1]]\n",
    "trainDY = trainData[[\"class\"]]\n",
    "\n",
    "testData = pd.read_table(\"/Users/stevenzhai/Desktop/FTE4560/NormalTest.csv\", sep=\",\")\n",
    "testDX = testData[testData.columns.values[:-1]]\n",
    "testDY = testData[[\"class\"]]\n",
    "\n",
    "#Add a column of 1 for the X\n",
    "trainDX['Attr0'] = 1.0\n",
    "testDX['Attr0'] = 1.0\n",
    "\n",
    "# Transform the trainDY and testDY into two columns\n",
    "trainDY[\"class2\"] = 0\n",
    "testDY[\"class2\"] = 0\n",
    "\n",
    "for i in range(949):\n",
    "    if trainDY.iloc[i,0] == 0.0:\n",
    "        trainDY.iloc[i,0] = 1\n",
    "        trainDY.iloc[i,1] = 0\n",
    "    else:\n",
    "        trainDY.iloc[i,0] = 0\n",
    "        trainDY.iloc[i,1] = 1\n",
    "        \n",
    "for j in range(151):\n",
    "    if testDY.iloc[j,0] == 0.0:\n",
    "        testDY.iloc[j,0] = 1\n",
    "        testDY.iloc[j,1] = 0\n",
    "    else:\n",
    "        testDY.iloc[j,0] = 0\n",
    "        testDY.iloc[j,1] = 1"
   ]
  },
  {
   "cell_type": "code",
   "execution_count": 5,
   "id": "0ffefb1d",
   "metadata": {},
   "outputs": [],
   "source": [
    "# Define the softmax function\n",
    "def softmax(X):\n",
    "    \n",
    "    num_sample, num_class = X.shape\n",
    "    for i in range(num_sample):\n",
    "        denom = np.exp(X[i]).sum()\n",
    "        X[i] = np.exp(X[i])/denom\n",
    "    return(X)"
   ]
  },
  {
   "cell_type": "code",
   "execution_count": 6,
   "id": "a1445367",
   "metadata": {},
   "outputs": [],
   "source": [
    "# Define gradient descent for softmax without regularization\n",
    "# k implies the number of classes\n",
    "def gradientDescent(X,Y,k):\n",
    "    dataMatrix = np.mat(X)\n",
    "    classMatrix = np.mat(Y)\n",
    "    num_sample, num_parameter = dataMatrix.shape\n",
    "    weight1 = np.ones([num_parameter,k])\n",
    "    weight2 = np.ones([num_parameter,k])\n",
    "    step_size = 1\n",
    "    max_iter = 2000\n",
    "    episilon = 0.000001\n",
    "    num_iter = 0\n",
    "    los = []\n",
    "    while(num_iter < max_iter):\n",
    "        num_iter += 1\n",
    "        weight2 = weight1\n",
    "        y = softmax(dataMatrix*weight1)\n",
    "        error = y - classMatrix\n",
    "        weight1 = weight1 - (step_size)*dataMatrix.transpose()*error/num_sample\n",
    "        if (abs(weight2[:,0]-weight1[:,0]) < episilon).all():\n",
    "            break\n",
    "    return weight1"
   ]
  },
  {
   "cell_type": "code",
   "execution_count": 58,
   "id": "49f16bf3",
   "metadata": {
    "scrolled": true
   },
   "outputs": [],
   "source": [
    "weight = gradientDescent(trainDX,trainDY,2)"
   ]
  },
  {
   "cell_type": "code",
   "execution_count": 18,
   "id": "cdfea286",
   "metadata": {},
   "outputs": [
    {
     "data": {
      "text/plain": [
       "(949, 2)"
      ]
     },
     "execution_count": 18,
     "metadata": {},
     "output_type": "execute_result"
    }
   ],
   "source": [
    "result = softmax(trainDX.to_numpy()*t)\n",
    "temp_row, temp_col = result.shape\n",
    "for i in range(temp_row):\n",
    "    if result[i,0] < result[i,1]:\n",
    "        result[i,0] = 0\n",
    "        result[i,1] = 1\n",
    "    else:\n",
    "        result[i,0] = 1\n",
    "        result[i,1] = 0\n",
    "\n",
    "match = 0\n",
    "\n",
    "for i in range(949):\n",
    "    if np.mat(trainDY)[i,0] == 0 and result[i,0] == 0:\n",
    "        match+=1\n",
    "\n",
    "\n",
    "result.shape"
   ]
  },
  {
   "cell_type": "code",
   "execution_count": 31,
   "id": "3842c3f6",
   "metadata": {},
   "outputs": [],
   "source": [
    "def soft_max(train_X,train_Y,test_X,test_Y):\n",
    "    temp_weight = gradientDescent(train_X,train_Y,2)\n",
    "    pred_train_Y = pd.DataFrame(softmax(train_X.to_numpy()*temp_weight))\n",
    "    temp_row, temp_col = pred_train_Y.shape\n",
    "    #classify the prediction results for training set\n",
    "    for i in range(temp_row):\n",
    "        if pred_train_Y.iloc[i,0] <= pred_train_Y.iloc[i,1]:\n",
    "            pred_train_Y.iloc[i,0] = 0\n",
    "            pred_train_Y.iloc[i,1] = 1\n",
    "        else:\n",
    "            pred_train_Y.iloc[i,0] = 1\n",
    "            pred_train_Y.iloc[i,1] = 0\n",
    "    \n",
    "    TP_train = 0\n",
    "    FP_train = 0\n",
    "    TN_train = 0\n",
    "    FN_train = 0\n",
    "    #calculate TP,FP,TN,FN\n",
    "    for j in range(temp_row):\n",
    "        if (pred_train_Y.iloc[j,0] == 0 and train_Y.iloc[j,0] == 0):\n",
    "            TP_train += 1\n",
    "        elif (pred_train_Y.iloc[j,0] == 0 and train_Y.iloc[j,0] == 1):\n",
    "            FP_train += 1\n",
    "        elif (pred_train_Y.iloc[j,0] == 1 and train_Y.iloc[j,0] == 1):\n",
    "            TN_train += 1\n",
    "        else:\n",
    "            FN_train += 1\n",
    "            \n",
    "    train_accuracy = (TP_train + TN_train)/(TP_train + FP_train + TN_train + FN_train)\n",
    "    train_precision = TP_train/(TP_train + FP_train)\n",
    "    train_recall = TP_train/(TP_train + FN_train)\n",
    "    train_F1_score = 2*train_precision*train_recall/(train_precision+train_recall)\n",
    "    \n",
    "    #classify the prediction results for the test set\n",
    "    pred_test_Y = pd.DataFrame(softmax(test_X.to_numpy()*temp_weight))\n",
    "    temp_row2, temp_col2 = pred_test_Y.shape\n",
    "    for m in range(temp_row2):\n",
    "        if pred_test_Y.iloc[m,0] <= pred_test_Y.iloc[m,1]:\n",
    "            pred_test_Y.iloc[m,0] = 0\n",
    "            pred_test_Y.iloc[m,1] = 1\n",
    "        else:\n",
    "            pred_test_Y.iloc[m,0] = 1\n",
    "            pred_test_Y.iloc[m,1] = 0\n",
    "            \n",
    "    TP_test = 0\n",
    "    FP_test = 0\n",
    "    TN_test = 0\n",
    "    FN_test = 0\n",
    "    #calculate TP,FP,TN,FN\n",
    "    for n in range(temp_row2):\n",
    "        if (pred_test_Y.iloc[n,0] == 0 and test_Y.iloc[n,0] == 0):\n",
    "            TP_test += 1\n",
    "        elif (pred_test_Y.iloc[n,0] == 0 and test_Y.iloc[n,0] == 1):\n",
    "            FP_test += 1\n",
    "        elif (pred_test_Y.iloc[n,0] == 1 and test_Y.iloc[n,0] == 1):\n",
    "            TN_test += 1\n",
    "        else:\n",
    "            FN_test += 1\n",
    "    \n",
    "    test_accuracy = (TP_test + TN_test)/(TP_test + TN_test + FN_test + FP_test)\n",
    "    test_precision = TP_test/(TP_test + FP_test)\n",
    "    test_recall = TP_test/(TP_test + FN_test)\n",
    "    test_F1_score = 2*test_precision*test_recall/(test_precision+test_recall)\n",
    "    \n",
    "    return(train_accuracy,train_precision,train_recall,train_F1_score,test_accuracy,test_precision,test_recall,test_F1_score)"
   ]
  },
  {
   "cell_type": "code",
   "execution_count": 32,
   "id": "ff5c0623",
   "metadata": {},
   "outputs": [
    {
     "data": {
      "text/plain": [
       "(0.7818756585879874,\n",
       " 0.7096774193548387,\n",
       " 0.1,\n",
       " 0.1752988047808765,\n",
       " 0.6754966887417219,\n",
       " 0.5128205128205128,\n",
       " 0.7843137254901961,\n",
       " 0.6201550387596899)"
      ]
     },
     "execution_count": 32,
     "metadata": {},
     "output_type": "execute_result"
    }
   ],
   "source": [
    "soft_max(trainDX,trainDY,testDX,testDY)"
   ]
  },
  {
   "cell_type": "code",
   "execution_count": 59,
   "id": "9145fd0c",
   "metadata": {},
   "outputs": [],
   "source": [
    "prob = (trainDX.to_numpy()*weight[:,1] - np.min(trainDX.to_numpy()*weight[:,1]))/(np.max(trainDX.to_numpy()*weight[:,1])-np.min(trainDX.to_numpy()*weight[:,1]))\n",
    "prob2 = (testDX.to_numpy()*weight[:,1] - np.min(testDX.to_numpy()*weight[:,1]))/(np.max(testDX.to_numpy()*weight[:,1])-np.min(testDX.to_numpy()*weight[:,1]))"
   ]
  },
  {
   "cell_type": "code",
   "execution_count": 64,
   "id": "7168db78",
   "metadata": {},
   "outputs": [
    {
     "data": {
      "text/plain": [
       "array([0., 0., 0., 0., 0., 0., 0., 0., 0., 0., 0., 0., 0., 0., 0., 0., 0.,\n",
       "       0., 0., 0., 0., 0., 0., 0., 0., 0., 0., 0., 0., 0., 0., 0., 0., 0.,\n",
       "       0., 0., 0., 0., 0., 0., 0., 0., 0., 0., 0., 0., 0., 0., 0., 0., 0.,\n",
       "       0., 0., 0., 0., 0., 0., 0., 0., 0., 0., 0., 0., 0., 0., 0., 0., 0.,\n",
       "       0., 0., 0., 0., 0., 0., 0., 0., 0., 0., 0., 0., 0., 0., 0., 0., 0.,\n",
       "       0., 0., 0., 0., 0., 0., 0., 0., 0., 0., 0., 0., 0., 0., 0., 1., 1.,\n",
       "       1., 1., 1., 1., 1., 1., 1., 1., 1., 1., 1., 1., 1., 1., 1., 1., 1.,\n",
       "       1., 1., 1., 1., 1., 1., 1., 1., 1., 1., 1., 1., 1., 1., 1., 1., 1.,\n",
       "       1., 1., 1., 1., 1., 1., 1., 1., 1., 1., 1., 1., 1., 1., 1.])"
      ]
     },
     "execution_count": 64,
     "metadata": {},
     "output_type": "execute_result"
    }
   ],
   "source": [
    "y1 = (trainDY.to_numpy()[:,1] - np.min(trainDY.to_numpy()[:,1]))/(np.max(trainDY.to_numpy()[:,1])-np.min(trainDY.to_numpy()[:,1]))\n",
    "y2 = (testDY.to_numpy()[:,1] - np.min(testDY.to_numpy()[:,1]))/(np.max(testDY.to_numpy()[:,1])-np.min(testDY.to_numpy()[:,1]))\n",
    "y2"
   ]
  },
  {
   "cell_type": "code",
   "execution_count": 65,
   "id": "be6de2d5",
   "metadata": {},
   "outputs": [
    {
     "name": "stderr",
     "output_type": "stream",
     "text": [
      "/opt/anaconda3/lib/python3.8/site-packages/sklearn/utils/validation.py:70: FutureWarning: Pass pos_label=1 as keyword args. From version 1.0 (renaming of 0.25) passing these as positional arguments will result in an error\n",
      "  warnings.warn(f\"Pass {args_msg} as keyword args. From version \"\n",
      "/opt/anaconda3/lib/python3.8/site-packages/sklearn/utils/validation.py:70: FutureWarning: Pass pos_label=1 as keyword args. From version 1.0 (renaming of 0.25) passing these as positional arguments will result in an error\n",
      "  warnings.warn(f\"Pass {args_msg} as keyword args. From version \"\n"
     ]
    },
    {
     "data": {
      "image/png": "[encoded data removed]",
      "text/plain": [
       "<Figure size 720x432 with 1 Axes>"
      ]
     },
     "metadata": {
      "needs_background": "light"
     },
     "output_type": "display_data"
    }
   ],
   "source": [
    "#Plot the ROC curve\n",
    "plt.figure(figsize=(10,6))\n",
    "FPR,TPR,threshold = roc_curve(trainDY.iloc[:,1],prob,1)\n",
    "FPR2,TPR2,threshold2 = roc_curve(testDY.iloc[:,1],prob2,1)\n",
    "roc_auc = auc(FPR,TPR)\n",
    "roc_auc2 = auc(FPR2,TPR2)\n",
    "plt.plot(FPR,TPR,lw=2,label = 'Train Data'+' (area = %0.3f)'%roc_auc)\n",
    "plt.plot(FPR2,TPR2,lw=2,label = 'Test Data'+' (area = %0.3f)'%roc_auc2)\n",
    "plt.plot([0,1],[0,1],color = 'navy',lw = 2, linestyle = '--')\n",
    "plt.grid()\n",
    "plt.xlabel(\"False Positive Rate\")\n",
    "plt.ylabel(\"True Positive Rate\")\n",
    "plt.title(\"ROC curve of Softmax Regression\")\n",
    "plt.legend()\n",
    "plt.show()"
   ]
  },
  {
   "cell_type": "code",
   "execution_count": 83,
   "id": "76ed6018",
   "metadata": {},
   "outputs": [],
   "source": [
    "# Define gradient descent for softmax with regularization\n",
    "# k implies the number of classes\n",
    "def gradientDescent_reg(X,Y,k,lam):\n",
    "    dataMatrix = np.mat(X)\n",
    "    classMatrix = np.mat(Y)\n",
    "    num_sample, num_parameter = dataMatrix.shape\n",
    "    weight1 = np.ones([num_parameter,k])\n",
    "    weight2 = np.ones([num_parameter,k])\n",
    "    step_size = 1\n",
    "    max_iter = 20\n",
    "    episilon = 0.000001\n",
    "    num_iter = 0\n",
    "    los = []\n",
    "    while(num_iter < max_iter):\n",
    "        num_iter += 1\n",
    "        weight2 = weight1\n",
    "        y = softmax(dataMatrix*weight1)\n",
    "        error = y - classMatrix\n",
    "        weight1 = weight1 - (step_size)*(dataMatrix.transpose()*error+lam*weight1)/num_sample\n",
    "        if (abs(weight2[:,0]-weight1[:,0]) < episilon).all():\n",
    "            break\n",
    "    return weight1"
   ]
  },
  {
   "cell_type": "code",
   "execution_count": 87,
   "id": "ac3edb88",
   "metadata": {},
   "outputs": [],
   "source": [
    "#Define cross-validation for logistic with regularization to test accuracy\n",
    "def cross_validation_regularize(X,Y,lam):\n",
    "    #Create the fold to save precision\n",
    "    precision_train = []\n",
    "    precision_vali = []\n",
    "    recall_train = []\n",
    "    recall_vali = []\n",
    "    accuracy_train = []\n",
    "    accuracy_vali = []\n",
    "    # Set the seed\n",
    "    np.random.seed(1)\n",
    "    # Divide indices of data into 10 folds randomly\n",
    "    row = X.shape[0]\n",
    "    index = [int(i) for i in np.linspace(0, row-1, row)]\n",
    "    random.shuffle(index)\n",
    "    # Use 10-fold cross validation to estimate the error rate\n",
    "    folds = 10\n",
    "    for i in range(0, folds):\n",
    "        # For each fold, calculate the accuracy\n",
    "        vali_index = index[int(row/folds*i):int(row/folds*(i+1))]\n",
    "        # Train set has 9 folds and validation set has 1 fold\n",
    "        vali_x = X.iloc[vali_index]\n",
    "        vali_y = Y.iloc[vali_index]\n",
    "        train_x = X.iloc[list(set(index)-set(vali_index))]\n",
    "        train_y = Y.iloc[list(set(index)-set(vali_index))]\n",
    "        temp_weight = gradientDescent_reg(train_x,train_y,2,lam)\n",
    "        #predict result for the train set\n",
    "        pred_train_y = softmax(train_x.to_numpy()*temp_weight)\n",
    "        pred_train_y = pd.DataFrame(pred_train_y)\n",
    "        temp_row, temp_col = pred_train_y.shape\n",
    "        for j in range(temp_row):\n",
    "            if pred_train_y.iloc[j,0] <= pred_train_y.iloc[j,1]:\n",
    "                pred_train_y.iloc[j,0] = 0\n",
    "                pred_train_y.iloc[j,1] = 1\n",
    "            else:\n",
    "                pred_train_y.iloc[j,0] = 1\n",
    "                pred_train_y.iloc[j,1] = 0\n",
    "                \n",
    "        TP_train = 0\n",
    "        FP_train = 0\n",
    "        FN_train = 0\n",
    "        TN_train = 0\n",
    "        \n",
    "        for k in range(temp_row):\n",
    "            if pred_train_y.iloc[k,0] == 0 and train_y.iloc[k,0] == 0:\n",
    "                TP_train+=1\n",
    "            elif pred_train_y.iloc[k,0] == 0 and train_y.iloc[k,0] == 1:\n",
    "                FP_train+=1\n",
    "            elif pred_train_y.iloc[k,0] == 1 and train_y.iloc[k,0] == 0:\n",
    "                FN_train+=1\n",
    "            else:\n",
    "                TN_train+=1\n",
    "        if (TP_train+FP_train != 0):\n",
    "            precision_train.append(TP_train/(TP_train+FP_train))\n",
    "        else:\n",
    "            precision_train.append(0)\n",
    "        \n",
    "        recall_train.append(TP_train/(TP_train + FN_train))\n",
    "        accuracy_train.append((TP_train+TN_train)/(TP_train+TN_train+FP_train+FN_train))\n",
    "        #predict result for the test set\n",
    "        pred_vali_y = softmax(vali_x.to_numpy()*temp_weight)\n",
    "        pred_vali_y = pd.DataFrame(pred_vali_y)\n",
    "        temp_row2,temp_col2 = pred_vali_y.shape\n",
    "        for j in range(temp_row2):\n",
    "            if pred_vali_y.iloc[j,0] <= pred_vali_y.iloc[j,1]:\n",
    "                pred_vali_y.iloc[j,0] = 0\n",
    "                pred_vali_y.iloc[j,1] = 1\n",
    "            else:\n",
    "                pred_vali_y.iloc[j,0] = 1\n",
    "                pred_vali_y.iloc[j,1] = 0\n",
    "        TP_vali = 0\n",
    "        FP_vali = 0\n",
    "        FN_vali = 0\n",
    "        TN_vali = 0\n",
    "        for k in range(temp_row2):\n",
    "            if pred_vali_y.iloc[k,0] == 0 and vali_y.iloc[k,0] == 0:\n",
    "                TP_vali+=1\n",
    "            elif pred_vali_y.iloc[k,0] == 0 and vali_y.iloc[k,0] == 1:\n",
    "                FP_vali+=1\n",
    "            elif pred_vali_y.iloc[k,0] == 1 and vali_y.iloc[k,0] == 0:\n",
    "                FN_vali+=1\n",
    "            else:\n",
    "                TN_vali+=1\n",
    "        if(TP_vali+FP_vali != 0):\n",
    "            precision_vali.append(TP_vali/(TP_vali+FP_vali))\n",
    "        else:\n",
    "            precision_vali.append(0)\n",
    "        recall_vali.append(TP_vali/(TP_vali+FN_vali))\n",
    "        accuracy_vali.append((TP_vali+TN_vali)/(TP_vali+TN_vali+FP_vali+FN_vali))\n",
    "        \n",
    "        \n",
    "    F1_train = [2*precision_train[i]*recall_train[i]/(precision_train[i]+recall_train[i]) for i in range(len(precision_train)) if (precision_train[i]+recall_train[i]) != 0]    \n",
    "    F1_vali = [2*precision_vali[i]*recall_vali[i]/(precision_vali[i]+recall_vali[i]) for i in range(len(precision_vali)) if precision_vali != None and (precision_vali[i]+recall_vali[i]) != 0]\n",
    "    precision_vali = list(filter(None,precision_vali))\n",
    "    return(np.mean(accuracy_train),np.mean(precision_train),np.mean(recall_train),np.mean(F1_train),np.mean(accuracy_vali),np.mean(precision_vali),np.mean(recall_vali),np.mean(F1_vali))"
   ]
  },
  {
   "cell_type": "code",
   "execution_count": 37,
   "id": "057aaedb",
   "metadata": {},
   "outputs": [
    {
     "data": {
      "text/plain": [
       "(0.7817587685059644,\n",
       " 0.698143208618615,\n",
       " 0.10204195119685103,\n",
       " 0.17749227710154752,\n",
       " 0.7755431131019036,\n",
       " 0.674074074074074,\n",
       " 0.08814698988612032,\n",
       " 0.16352970008883988)"
      ]
     },
     "execution_count": 37,
     "metadata": {},
     "output_type": "execute_result"
    }
   ],
   "source": [
    "cross_validation_regularize(trainDX,trainDY,0)"
   ]
  },
  {
   "cell_type": "code",
   "execution_count": 88,
   "id": "629405a4",
   "metadata": {},
   "outputs": [],
   "source": [
    "def ten_CV_plot(train_x,train_y,para):\n",
    "    accuracy = []\n",
    "    precision = []\n",
    "    recall = []\n",
    "    F1 = []\n",
    "    for i in np.linspace(0,para,6):\n",
    "        k = cross_validation_regularize(train_x,train_y,i)\n",
    "        accuracy.append(k[4])\n",
    "        precision.append(k[5])\n",
    "        recall.append(k[6])\n",
    "        F1.append(k[7])\n",
    "    fig = plt.figure()\n",
    "    plt.xlabel(\"lambda\")\n",
    "    plt.ylabel(\"Rate\")\n",
    "    plt.grid()\n",
    "    plt.ylim(0,1.2)\n",
    "    plt.plot(np.linspace(0,para,6), precision,marker=\"o\",markerfacecolor=\"brown\",label=\"Precision\")\n",
    "    plt.plot(np.linspace(0,para,6),recall,marker=\"o\",markerfacecolor=\"purple\",label=\"Recall\")\n",
    "    plt.plot(np.linspace(0,para,6),F1,marker=\"o\",markerfacecolor=\"burlywood\",label=\"F1 Score\")\n",
    "    plt.plot(np.linspace(0,para,6),accuracy,marker=\"o\",markerfacecolor=\"aliceblue\",label=\"Accuracy\")\n",
    "    plt.title(\"Metrics of Softmax Regression with L2-norm\")\n",
    "    plt.legend()\n",
    "    plt.show()"
   ]
  },
  {
   "cell_type": "code",
   "execution_count": 89,
   "id": "f6d9a2da",
   "metadata": {
    "scrolled": false
   },
   "outputs": [
    {
     "name": "stderr",
     "output_type": "stream",
     "text": [
      "/opt/anaconda3/lib/python3.8/site-packages/numpy/core/fromnumeric.py:3419: RuntimeWarning: Mean of empty slice.\n",
      "  return _methods._mean(a, axis=axis, dtype=dtype,\n",
      "/opt/anaconda3/lib/python3.8/site-packages/numpy/core/_methods.py:188: RuntimeWarning: invalid value encountered in double_scalars\n",
      "  ret = ret.dtype.type(ret / rcount)\n"
     ]
    },
    {
     "data": {
      "image/png": "[encoded data removed]",
      "text/plain": [
       "<Figure size 432x288 with 1 Axes>"
      ]
     },
     "metadata": {
      "needs_background": "light"
     },
     "output_type": "display_data"
    }
   ],
   "source": [
    "ten_CV_plot(trainDX,trainDY,1)"
   ]
  },
  {
   "cell_type": "code",
   "execution_count": 53,
   "id": "8262439a",
   "metadata": {},
   "outputs": [],
   "source": [
    "def soft_max_reg(train_X,train_Y,test_X,test_Y,lam):\n",
    "    temp_weight = gradientDescent_reg(train_X,train_Y,2,lam)\n",
    "    pred_train_Y = pd.DataFrame(softmax(train_X.to_numpy()*temp_weight))\n",
    "    temp_row, temp_col = pred_train_Y.shape\n",
    "    #classify the prediction results for training set\n",
    "    for i in range(temp_row):\n",
    "        if pred_train_Y.iloc[i,0] <= pred_train_Y.iloc[i,1]:\n",
    "            pred_train_Y.iloc[i,0] = 0\n",
    "            pred_train_Y.iloc[i,1] = 1\n",
    "        else:\n",
    "            pred_train_Y.iloc[i,0] = 1\n",
    "            pred_train_Y.iloc[i,1] = 0\n",
    "    \n",
    "    TP_train = 0\n",
    "    FP_train = 0\n",
    "    TN_train = 0\n",
    "    FN_train = 0\n",
    "    #calculate TP,FP,TN,FN\n",
    "    for j in range(temp_row):\n",
    "        if (pred_train_Y.iloc[j,0] == 0 and train_Y.iloc[j,0] == 0):\n",
    "            TP_train += 1\n",
    "        elif (pred_train_Y.iloc[j,0] == 0 and train_Y.iloc[j,0] == 1):\n",
    "            FP_train += 1\n",
    "        elif (pred_train_Y.iloc[j,0] == 1 and train_Y.iloc[j,0] == 1):\n",
    "            TN_train += 1\n",
    "        else:\n",
    "            FN_train += 1\n",
    "            \n",
    "    train_accuracy = (TP_train + TN_train)/(TP_train + FP_train + TN_train + FN_train)\n",
    "    train_precision = TP_train/(TP_train + FP_train)\n",
    "    train_recall = TP_train/(TP_train + FN_train)\n",
    "    train_F1_score = 2*train_precision*train_recall/(train_precision+train_recall)\n",
    "    \n",
    "    #classify the prediction results for the test set\n",
    "    pred_test_Y = pd.DataFrame(softmax(test_X.to_numpy()*temp_weight))\n",
    "    temp_row2, temp_col2 = pred_test_Y.shape\n",
    "    for m in range(temp_row2):\n",
    "        if pred_test_Y.iloc[m,0] <= pred_test_Y.iloc[m,1]:\n",
    "            pred_test_Y.iloc[m,0] = 0\n",
    "            pred_test_Y.iloc[m,1] = 1\n",
    "        else:\n",
    "            pred_test_Y.iloc[m,0] = 1\n",
    "            pred_test_Y.iloc[m,1] = 0\n",
    "            \n",
    "    TP_test = 0\n",
    "    FP_test = 0\n",
    "    TN_test = 0\n",
    "    FN_test = 0\n",
    "    #calculate TP,FP,TN,FN\n",
    "    for n in range(temp_row2):\n",
    "        if (pred_test_Y.iloc[n,0] == 0 and test_Y.iloc[n,0] == 0):\n",
    "            TP_test += 1\n",
    "        elif (pred_test_Y.iloc[n,0] == 0 and test_Y.iloc[n,0] == 1):\n",
    "            FP_test += 1\n",
    "        elif (pred_test_Y.iloc[n,0] == 1 and test_Y.iloc[n,0] == 1):\n",
    "            TN_test += 1\n",
    "        else:\n",
    "            FN_test += 1\n",
    "    \n",
    "    test_accuracy = (TP_test + TN_test)/(TP_test + TN_test + FN_test + FP_test)\n",
    "    test_precision = TP_test/(TP_test + FP_test)\n",
    "    test_recall = TP_test/(TP_test + FN_test)\n",
    "    test_F1_score = 2*test_precision*test_recall/(test_precision+test_recall)\n",
    "    \n",
    "    return(train_accuracy,train_precision,train_recall,train_F1_score,test_accuracy,test_precision,test_recall,test_F1_score)"
   ]
  },
  {
   "cell_type": "code",
   "execution_count": 54,
   "id": "1a3253d0",
   "metadata": {},
   "outputs": [
    {
     "data": {
      "text/plain": [
       "(0.7829293993677555,\n",
       " 0.8181818181818182,\n",
       " 0.08181818181818182,\n",
       " 0.1487603305785124,\n",
       " 0.6490066225165563,\n",
       " 0.4868421052631579,\n",
       " 0.7254901960784313,\n",
       " 0.5826771653543308)"
      ]
     },
     "execution_count": 54,
     "metadata": {},
     "output_type": "execute_result"
    }
   ],
   "source": [
    "soft_max_reg(trainDX,trainDY,testDX,testDY,0.6)"
   ]
  },
  {
   "cell_type": "code",
   "execution_count": 67,
   "id": "989a72d1",
   "metadata": {},
   "outputs": [],
   "source": [
    "weight = gradientDescent_reg(trainDX,trainDY,2,0.6)"
   ]
  },
  {
   "cell_type": "code",
   "execution_count": 68,
   "id": "94faf695",
   "metadata": {},
   "outputs": [
    {
     "name": "stderr",
     "output_type": "stream",
     "text": [
      "/opt/anaconda3/lib/python3.8/site-packages/sklearn/utils/validation.py:70: FutureWarning: Pass pos_label=1 as keyword args. From version 1.0 (renaming of 0.25) passing these as positional arguments will result in an error\n",
      "  warnings.warn(f\"Pass {args_msg} as keyword args. From version \"\n",
      "/opt/anaconda3/lib/python3.8/site-packages/sklearn/utils/validation.py:70: FutureWarning: Pass pos_label=1 as keyword args. From version 1.0 (renaming of 0.25) passing these as positional arguments will result in an error\n",
      "  warnings.warn(f\"Pass {args_msg} as keyword args. From version \"\n"
     ]
    },
    {
     "data": {
      "image/png": "[encoded data removed]",
      "text/plain": [
       "<Figure size 720x432 with 1 Axes>"
      ]
     },
     "metadata": {
      "needs_background": "light"
     },
     "output_type": "display_data"
    }
   ],
   "source": [
    "prob = (trainDX.to_numpy()*weight[:,0] - np.min(trainDX.to_numpy()*weight[:,0]))/(np.max(trainDX.to_numpy()*weight[:,0])-np.min(trainDX.to_numpy()*weight[:,0]))\n",
    "prob2 = (testDX.to_numpy()*weight[:,1] - np.min(testDX.to_numpy()*weight[:,1]))/(np.max(testDX.to_numpy()*weight[:,1])-np.min(testDX.to_numpy()*weight[:,1]))\n",
    "\n",
    "#Plot the ROC curve\n",
    "plt.figure(figsize=(10,6))\n",
    "FPR,TPR,threshold = roc_curve(trainDY.iloc[:,0],prob,1)\n",
    "FPR2,TPR2,threshold2 = roc_curve(testDY.iloc[:,1],prob2,1)\n",
    "roc_auc = auc(FPR,TPR)\n",
    "roc_auc2 = auc(FPR2,TPR2)\n",
    "plt.plot(FPR,TPR,lw=2,label = 'Train Data'+' (area = %0.3f)'%roc_auc)\n",
    "plt.plot(FPR2,TPR2,lw=2,label = 'Test Data'+' (area = %0.3f)'%roc_auc2)\n",
    "plt.plot([0,1],[0,1],color = 'navy',lw = 2, linestyle = '--')\n",
    "plt.grid()\n",
    "plt.xlabel(\"False Positive Rate\")\n",
    "plt.ylabel(\"True Positive Rate\")\n",
    "plt.title(\"ROC curve of Regularized Softmax Regression\")\n",
    "plt.legend()\n",
    "plt.show()\n",
    "\n"
   ]
  }
 ],
 "metadata": {
  "kernelspec": {
   "display_name": "Python 3",
   "language": "python",
   "name": "python3"
  },
  "language_info": {
   "codemirror_mode": {
    "name": "ipython",
    "version": 3
   },
   "file_extension": ".py",
   "mimetype": "text/x-python",
   "name": "python",
   "nbconvert_exporter": "python",
   "pygments_lexer": "ipython3",
   "version": "3.8.8"
  }
 },
 "nbformat": 4,
 "nbformat_minor": 5
}
